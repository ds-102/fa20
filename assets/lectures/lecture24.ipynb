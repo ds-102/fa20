{
 "cells": [
  {
   "cell_type": "code",
   "execution_count": null,
   "metadata": {},
   "outputs": [],
   "source": [
    "import torch\n",
    "import numpy as np\n",
    "import numpy.random as rnd\n",
    "import matplotlib.pyplot as plt\n",
    "import itertools\n",
    "from scipy.special import expit"
   ]
  },
  {
   "cell_type": "code",
   "execution_count": null,
   "metadata": {},
   "outputs": [],
   "source": [
    "def display_data(X, y):\n",
    "    plt.scatter(X[y==1,0], X[y==1,1], color='b')\n",
    "    plt.scatter(X[y==0,0], X[y==0,1], color='y')\n",
    "    plt.axis('equal')\n",
    "    plt.show()\n",
    "    \n",
    "def display_model(model, X, features=None, soft=True):\n",
    "    if features is None:\n",
    "        features = X\n",
    "    logits = model(features).detach()\n",
    "    predictions = expit(logits[:,1] - logits[:,0])\n",
    "    if not soft:\n",
    "        predictions = (np.sign(predictions-0.5)+1)/2.0\n",
    "    n = X.shape[0]\n",
    "    rgb = np.zeros(shape=(n, 3))\n",
    "    rgb[:,0] = 1 - predictions\n",
    "    rgb[:,1] = 1 - predictions\n",
    "    rgb[:,2] = predictions\n",
    "    plt.scatter(X[:,0], X[:,1], color=rgb)\n",
    "    plt.axis('equal')\n",
    "    plt.show()"
   ]
  },
  {
   "cell_type": "markdown",
   "metadata": {},
   "source": [
    "# Simple Dataset for Nonparametric Modeling\n",
    "## Constructing the Dataset"
   ]
  },
  {
   "cell_type": "code",
   "execution_count": 46,
   "metadata": {},
   "outputs": [
    {
     "data": {
      "image/png": "[encoded data removed]",
      "text/plain": [
       "<Figure size 432x288 with 1 Axes>"
      ]
     },
     "metadata": {
      "needs_background": "light"
     },
     "output_type": "display_data"
    }
   ],
   "source": [
    "n = 500\n",
    "X = rnd.uniform(-1, 1, size=(n, 2))\n",
    "y = X[:,0]*X[:,1]>0\n",
    "#y = np.abs(X[:,0] **2 + X[:,1] ** 2 - 0.6) < 0.25\n",
    "display_data(X, y)"
   ]
  },
  {
   "cell_type": "markdown",
   "metadata": {},
   "source": [
    "## Fit a logistic regression model\n",
    "(Don't worry yet about the optimizer code; we'll get to it later)"
   ]
  },
  {
   "cell_type": "code",
   "execution_count": null,
   "metadata": {},
   "outputs": [],
   "source": [
    "Xt = torch.tensor(X, dtype=torch.float32)\n",
    "yt = torch.tensor(y, dtype=torch.int64)\n",
    "model = torch.nn.Linear(2, 2)\n",
    "loss_fn = torch.nn.CrossEntropyLoss()\n",
    "optimizer = torch.optim.SGD(model.parameters(), lr=.01)\n",
    "for epoch in range(5001):\n",
    "    if epoch % 1000 == 0:\n",
    "        print(epoch)\n",
    "        display_model(model, Xt)\n",
    "        optimizer.zero_grad()\n",
    "    outputs = model(Xt)\n",
    "    loss = loss_fn(outputs, yt)\n",
    "    loss.backward()\n",
    "    optimizer.step()"
   ]
  },
  {
   "cell_type": "markdown",
   "metadata": {},
   "source": [
    "## Random features regression\n",
    "Run logistic regression, but with many random features rather than the default covariates"
   ]
  },
  {
   "cell_type": "code",
   "execution_count": null,
   "metadata": {},
   "outputs": [],
   "source": [
    "k = 100\n",
    "# Features: sign(M*x + b), where M and b are random gaussian matrices\n",
    "Mt = torch.tensor(rnd.randn(2,k), dtype=torch.float32)\n",
    "bt = torch.tensor(rnd.randn(1,k), dtype=torch.float32)\n",
    "Xt = torch.tensor(X, dtype=torch.float32)\n",
    "Phit = torch.sign(Xt @ Mt + bt)\n",
    "yt = torch.tensor(y, dtype=torch.int64)\n",
    "model = torch.nn.Linear(k, 2)\n",
    "loss_fn = torch.nn.CrossEntropyLoss()\n",
    "optimizer = torch.optim.SGD(model.parameters(), lr=.01)\n",
    "for epoch in range(5001):\n",
    "    if epoch % 1000 == 0:\n",
    "        print(epoch)\n",
    "        display_model(model, Xt, features=Phit)\n",
    "    optimizer.zero_grad()\n",
    "    outputs = model(Phit)\n",
    "    loss = loss_fn(outputs, yt)\n",
    "    loss.backward()\n",
    "    optimizer.step()"
   ]
  },
  {
   "cell_type": "markdown",
   "metadata": {},
   "source": [
    "## Fit a two-layer neural network\n",
    "Use learned instead of random features; can succeed with far fewer features than before"
   ]
  },
  {
   "cell_type": "code",
   "execution_count": null,
   "metadata": {},
   "outputs": [],
   "source": [
    "k = 5\n",
    "Xt = torch.tensor(X, dtype=torch.float32)\n",
    "yt = torch.tensor(y, dtype=torch.int64)\n",
    "layer1 = torch.nn.Linear(2, k)\n",
    "activation = torch.nn.ReLU()\n",
    "layer2 = torch.nn.Linear(k, 2)\n",
    "model = lambda x : layer2(activation(layer1(x)))\n",
    "loss_fn = torch.nn.CrossEntropyLoss()\n",
    "optimizer = torch.optim.SGD(itertools.chain(layer1.parameters(), layer2.parameters()), lr=.01)\n",
    "for epoch in range(5001):\n",
    "    if epoch % 1000 == 0:\n",
    "        print(epoch)\n",
    "        display_model(model, Xt)\n",
    "    optimizer.zero_grad()\n",
    "    outputs = model(Xt)\n",
    "    loss = loss_fn(outputs, yt)\n",
    "    loss.backward()\n",
    "    optimizer.step()"
   ]
  },
  {
   "cell_type": "markdown",
   "metadata": {},
   "source": [
    "# Basic Pytorch Operations"
   ]
  },
  {
   "cell_type": "code",
   "execution_count": null,
   "metadata": {},
   "outputs": [],
   "source": [
    "a = torch.tensor(2.0, requires_grad=True)\n",
    "b = torch.tensor(3.0, requires_grad=True)\n",
    "c = torch.tensor(4.0, requires_grad=True)\n",
    "output = (a+b) * (c**2)\n",
    "output"
   ]
  },
  {
   "cell_type": "code",
   "execution_count": null,
   "metadata": {},
   "outputs": [],
   "source": [
    "output.backward()"
   ]
  },
  {
   "cell_type": "code",
   "execution_count": null,
   "metadata": {},
   "outputs": [],
   "source": [
    "print(a.grad)\n",
    "print(b.grad)\n",
    "print(c.grad)"
   ]
  }
 ],
 "metadata": {
  "kernelspec": {
   "display_name": "Python 3",
   "language": "python",
   "name": "python3"
  },
  "language_info": {
   "codemirror_mode": {
    "name": "ipython",
    "version": 3
   },
   "file_extension": ".py",
   "mimetype": "text/x-python",
   "name": "python",
   "nbconvert_exporter": "python",
   "pygments_lexer": "ipython3",
   "version": "3.6.9"
  }
 },
 "nbformat": 4,
 "nbformat_minor": 4
}
