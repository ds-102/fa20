{
 "cells": [
  {
   "cell_type": "markdown",
   "metadata": {},
   "source": [
    "# Lab 1:  Basics of Testing\n",
    "Welcome to the first Data 102 lab! \n",
    "\n",
    "The goals of this lab are to get familiar with concepts in decision theory. We will learn more about testing, p-values and FDR control.\n",
    "\n",
    "The code you need to write is commented out with a message **\"TODO: fill in\"**. There is additional documentation for each part as you go along.\n",
    "\n",
    "\n",
    "## Collaboration Policy\n",
    "Data science is a collaborative activity. While you may talk with others about the labs, we ask that you **write your solutions individually**. If you do discuss the assignments with others please **include their names** in the cell below.\n",
    "\n",
    "## Submission\n",
    "To submit this assignment, rerun the notebook from scratch (by selecting Kernel > Restart & Run all), and then print as a pdf (File > download as > pdf) and submit it to Gradescope.\n",
    "\n",
    "\n",
    "**This assignment should be completed and submitted before Tuesday, Sep 8, 2020 at 11:59 PM. PST**\n",
    "\n",
    "*On regular weeks the lab will be due Monday nights*"
   ]
  },
  {
   "cell_type": "markdown",
   "metadata": {},
   "source": [
    "## Collaborators\n",
    "Write the names of your collaborators in this cell.\n",
    "\n",
    "`<Collaborator Name> <Collaborator e-mail>`"
   ]
  },
  {
   "cell_type": "markdown",
   "metadata": {},
   "source": [
    "# Setup\n",
    "Let's begin by importing the libraries we will use. You can find the documentation for the libraries here:\n",
    "* matplotlib: https://matplotlib.org/3.1.1/contents.html\n",
    "* numpy: https://docs.scipy.org/doc/\n",
    "* pandas: https://pandas.pydata.org/pandas-docs/stable/\n",
    "* seaborn: https://seaborn.pydata.org/"
   ]
  },
  {
   "cell_type": "code",
   "execution_count": 2,
   "metadata": {
    "collapsed": true
   },
   "outputs": [],
   "source": [
    "import matplotlib.pyplot as plt\n",
    "import numpy as np\n",
    "import pandas as pd\n",
    "import seaborn as sns\n",
    "from scipy.stats import norm\n",
    "\n",
    "import hashlib\n",
    "import sys\n",
    "%matplotlib inline\n",
    "\n",
    "sns.set(style=\"dark\")\n",
    "plt.style.use(\"ggplot\")\n",
    "\n",
    "def get_hash(num):  # <- helper function for assessing correctness\n",
    "    return hashlib.md5(str(num).encode()).hexdigest()"
   ]
  },
  {
   "cell_type": "markdown",
   "metadata": {},
   "source": [
    "# Question 1: Hypothesis testing, LRT, p-values, decision rules\n",
    "\n",
    "The first question looks at the basics of testing. You will have to put yourself in the shoes of a detective who is trying to use 'evidence' to find the 'truth'. Given a piece of evidence $X$ your job will be to decide between two hypotheses. The two hypothesis you consider are:\n",
    "\n",
    "_The null hypothesis:_\n",
    "$$ H_0: X\\sim \\mathcal{N}(0,1)$$\n",
    "_The alternative hypothesis:_\n",
    "$$ H_1: X \\sim \\mathcal{N}(1,1)$$\n",
    "\n",
    "Granted you don't know the truth, but you have to make a decision that maximizes the True Positive Probability and minimizes the False Positive Probability.\n",
    "\n",
    "**In this exercise you will look at:**\n",
    " - The intuitive relationship between Likelihood Ratio Test and decisions based on thresholding $X$.\n",
    " - The performance of a level-$\\alpha$ test.\n",
    " - The distribution of p-values for samples from the null distribution as well as samples from the alternative.\n"
   ]
  },
  {
   "cell_type": "code",
   "execution_count": 3,
   "metadata": {},
   "outputs": [
    {
     "data": {
      "image/png": "[encoded data removed]",
      "text/plain": [
       "<Figure size 432x288 with 1 Axes>"
      ]
     },
     "metadata": {
      "needs_background": "light"
     },
     "output_type": "display_data"
    }
   ],
   "source": [
    "# NOTE: you just need to run this cell to plot the pdf; don't change this code.\n",
    "def null_pdf(x):\n",
    "    return norm.pdf(x,0,1)\n",
    "def alt_pdf(x):\n",
    "    return norm.pdf(x,1,1)\n",
    "\n",
    "# Plot the distribution under the null and alternative\n",
    "x_axis = np.arange(-4, 5, 0.001)\n",
    "\n",
    "plt.plot(x_axis, null_pdf(x_axis), label = '$H_0$') # <- likelihood under the null\n",
    "plt.fill_between(x_axis, null_pdf(x_axis), alpha = 0.3)\n",
    "\n",
    "plt.plot(x_axis, alt_pdf(x_axis),  label = '$H_1$') # <- likelihood alternative\n",
    "plt.fill_between(x_axis, alt_pdf(x_axis), alpha = 0.3)\n",
    "\n",
    "plt.xlabel(\"X\")\n",
    "plt.ylabel(\"Likelihood\")\n",
    "plt.title(\"Comparison of null and alternative likelihoods\");\n",
    "plt.legend()\n",
    "plt.tight_layout()\n",
    "plt.show()"
   ]
  },
  {
   "cell_type": "markdown",
   "metadata": {},
   "source": [
    "By inspecting the image above we can see that if the data lies towards the right, then it seems more plausible that the alternative is true. For example $X\\geq1.64$ seems much less likely to belong to the null pdf than the alternative pdf.\n",
    "\n",
    "### Likelihood Ratio Test\n",
    "In class we said that the optimal test is the Likelihood Ratio Test (LRT), which is the result of the celebrated Neyman-Pearson Lemma. It says that the optimal level $\\alpha$ test is the one that rejects the null (aka makes a discovery, accepts the alternative) whenever:\n",
    "$$LR(x):=\\frac{f_1(x)}{f_0(x)} \\geq \\eta$$\n",
    "where $\\eta$ is chosen such that the false positive rate is equal to $\\alpha$.\n",
    "\n",
    "### But how does this result fit with the intuition that we should set a decision threshold based on the value of $X$ directly?\n",
    "\n",
    "This exercise will formalize that intuition:\n",
    "\n",
    "Let's start by computing the ratio of the likelihoods. The likelihood of $X\\sim \\mathcal N(\\mu,\\sigma)$ is:\n",
    "$$f_{\\sigma, \\mu}(x) = \\frac{1}{\\sigma\\sqrt{2\\pi}} e^{-\\frac{(x-\\mu)^2}{2\\sigma^2}}$$\n",
    "\n",
    "Luckily `scipy` has a nifty function to compute the likelihood of gaussians `scipy.norm.pdf(x, mu, sigma)`\n",
    "\n",
    "\n",
    " \n",
    "## Part 1.a:  Calculate likelihood ratios\n",
    "\n",
    "Complete the function below that computes the likelihood ratio for any value `x`."
   ]
  },
  {
   "cell_type": "code",
   "execution_count": 5,
   "metadata": {},
   "outputs": [
    {
     "name": "stdout",
     "output_type": "stream",
     "text": [
      "3.126768365186155\n",
      "Test passed!\n"
     ]
    }
   ],
   "source": [
    "def calculate_likelihood_ratio(x, mean_0, stdev_0, mean_1, stdev_1):\n",
    "    \"\"\"\n",
    "    Computes the likelihood ratio between the alternative and null hypothesis.\n",
    "    \n",
    "    Inputs:\n",
    "    x: value for which to compute the likelihool ratio\n",
    "    mean_0: mean of the null distribution\n",
    "    stdev_0: standard deviation of the null distribution\n",
    "    mean_1: mean of the alternative distribution\n",
    "    stdev_0: standard deviation of the alternative distribution\n",
    "    \n",
    "    Outputs:\n",
    "    lr : the likelihood ratio at point x\n",
    "    \"\"\"\n",
    "    \n",
    "    L0 = null_pdf(x)\n",
    "    L1 = alt_pdf(x)\n",
    "    LR = L1/L0# TODO: fill the likelihood ratio\n",
    "    return LR\n",
    "\n",
    "X=1.64\n",
    "# Compute the likelihood ration for X=1.64\n",
    "LR = calculate_likelihood_ratio(X, 0,1,1,1)\n",
    "print(LR)\n",
    "assert(get_hash(LR)== 'a6c466c84cd75a487ae036f8dd9e26e9')\n",
    "print(\"Test passed!\")"
   ]
  },
  {
   "cell_type": "code",
   "execution_count": 6,
   "metadata": {},
   "outputs": [
    {
     "data": {
      "image/png": "[encoded data removed]",
      "text/plain": [
       "<Figure size 432x288 with 1 Axes>"
      ]
     },
     "metadata": {
      "needs_background": "light"
     },
     "output_type": "display_data"
    }
   ],
   "source": [
    "# Let's plot the likelihood ratios for different values of x:\n",
    "x_axis = np.arange(-2, 3, 0.001)\n",
    "plt.plot(x_axis, calculate_likelihood_ratio(x_axis, 0,1,1,1))\n",
    "plt.vlines(X, 0, LR, linestyle=\"dotted\", color='k')\n",
    "plt.hlines(LR, -2, X, linestyle=\"dotted\", color='k')\n",
    "plt.scatter(X, LR, 30, color='k')\n",
    "plt.xlabel(\"X\")\n",
    "plt.ylabel(\"Likelihood Ratio\")\n",
    "plt.title(\"Comparison of null and alternative likelihoods\");\n",
    "plt.tight_layout()\n",
    "plt.show()"
   ]
  },
  {
   "cell_type": "markdown",
   "metadata": {},
   "source": [
    "The plot above illustrates that deciding based on LRT with $\\eta = 3.13$ is equivalent to deciding in the favor of the alternative whenever $X\\geq 1.64$. The set $[1.64, +\\infty)$ is called the **rejection region** of the test, because for all X values in the rejection region the test rejects the null in the favor of the alternative. This illustrates that our intuition was correct.\n",
    "\n",
    "When thinking in terms of likelihood ratios it seems very tricky to compute the False Positive Rate, however in this case we can bypass that by testing based on the value of $X$.\n",
    "\n",
    "The figure below illustrates pictorially the _false positive rate_ when testing based on the threshold $X\\geq1.64$\n"
   ]
  },
  {
   "cell_type": "code",
   "execution_count": 13,
   "metadata": {},
   "outputs": [
    {
     "data": {
      "image/png": "[encoded data removed]",
      "text/plain": [
       "<Figure size 432x288 with 1 Axes>"
      ]
     },
     "metadata": {
      "needs_background": "light"
     },
     "output_type": "display_data"
    }
   ],
   "source": [
    "x_axis = np.arange(-4, 5, 0.001)\n",
    "\n",
    "\n",
    "plt.plot(x_axis, null_pdf(x_axis), label = '$H_0$') # <- likelihood under the null\n",
    "plt.plot(x_axis, alt_pdf(x_axis),  label = '$H_1$') # <- likelihood alternative\n",
    "\n",
    "rejection_region = np.arange(X, 5, 0.001) # <- truncate the true rejection region for plotting purposes\n",
    "plt.fill_between(rejection_region, null_pdf(rejection_region), alpha = 0.3, label=\"FPR\")\n",
    "plt.fill_between(np.arange(-4, X, 0.001), alt_pdf(np.arange(-4, X, 0.001)), alpha = 0.3, label=\"FNR\")\n",
    "    \n",
    "plt.xlabel(\"X\")\n",
    "plt.ylabel(\"Likelihood\")\n",
    "plt.title(\"Comparison of null and alternative likelihoods\");\n",
    "plt.legend()\n",
    "plt.tight_layout()\n",
    "plt.show()"
   ]
  },
  {
   "cell_type": "markdown",
   "metadata": {},
   "source": [
    "Under the null hypothesis it is still possible to observe values in the tail of distribution. The probability of that happening is exactly FPR (and it is illustrated by the shaded area under the null curve). Assuming a test that rejects for all $X \\geq \\tau$, FPR can be computed as:\n",
    "\n",
    "$$FPR(\\tau) = \\mathbb{P}\\{X>\\tau|H_0 \\text{ is true}\\} = 1 - \\mathbb{P}\\{X<\\tau|H_0 \\text{ is true}\\} = 1 - CDF(\n",
    "\\tau)$$\n",
    "\n",
    "where $CDF(\\cdot)$ denotes the Standard Gaussian cumulative density function.\n",
    "\n",
    "In the cell below calculate the FPR for this test. \n",
    "\n",
    "**Hint**, the cdf of a standard normal might come in handy for this function: `scipy.stats.norm.cdf`"
   ]
  },
  {
   "cell_type": "code",
   "execution_count": 50,
   "metadata": {},
   "outputs": [
    {
     "name": "stdout",
     "output_type": "stream",
     "text": [
      "0.050502583474103746\n"
     ]
    }
   ],
   "source": [
    "def calculate_fpr(tau):\n",
    "    \"\"\"\n",
    "    Calculates the FPR for the test based on thresholding X>=tau\n",
    "    \n",
    "    Inputs:\n",
    "        tau: test threshold\n",
    "    \n",
    "    Outputs:\n",
    "        fpr: false positive rate\n",
    "    \"\"\"\n",
    "    fpr = 1 - norm.cdf(tau) # TODO: fill in\n",
    "    return fpr\n",
    "\n",
    "fpr = calculate_fpr(X)\n",
    "print(fpr)"
   ]
  },
  {
   "cell_type": "markdown",
   "metadata": {},
   "source": [
    "Looks like we got really lucky!!! The threshold we choose has a FPR of $\\sim 5\\%$. \n",
    "\n",
    "## Part 1.b: Make a level-$\\alpha$ decision rule\n",
    "\n",
    "Complete the function below to create a decision rule that has $FPR=\\alpha$. Given that we are working with Gaussian this test is exactly the Z-score test that you might have learned in previous classes.\n",
    "\n",
    "**Hint**, the inverse cdf of a standard normal might come in handy for this function: `scipy.stats.norm.ppf`\n"
   ]
  },
  {
   "cell_type": "code",
   "execution_count": 48,
   "metadata": {},
   "outputs": [
    {
     "name": "stdout",
     "output_type": "stream",
     "text": [
      "At FPR=0.01 the null hypothesis is rejected for X = [3.]\n",
      "At FPR=0.05 the null hypothesis is rejected for X = [2. 3.]\n",
      "At FPR=0.1 the null hypothesis is rejected for X = [2. 3.]\n",
      "At FPR=0.2 the null hypothesis is rejected for X = [1. 2. 3.]\n",
      "All tests passed!!!\n"
     ]
    }
   ],
   "source": [
    "def make_decision(fpr, X):\n",
    "    \"\"\"\n",
    "    Makes a decision whether to accept or reject the null hypothesis for point X at level alpha\n",
    "    \n",
    "    Inputs:\n",
    "        fpr: desired FPR rate for the decision rule\n",
    "        X: point at which to test\n",
    "    \n",
    "    Outputs:\n",
    "        decision: {0, 1} 0-accept the null, 1-reject the null\n",
    "    \"\"\"\n",
    "    \n",
    "    threshold = norm.ppf(1-fpr) # TODO: compute the threshold for which the FPR of the test is equal to alpha (see Hint)\n",
    "    decision = X>=threshold # TODO: compute the decision; 1 stands for rejecting the null\n",
    "    return decision\n",
    "\n",
    "# Perform this test for a few values of X at different levels alpha\n",
    "X_vals = np.array([0, 0.5, 1, 2, 3])\n",
    "alphas = np.array([0.01, 0.05, 0.1, 0.2])\n",
    "for alpha in alphas:\n",
    "    decisions = make_decision(alpha, X_vals)\n",
    "    print('At FPR={} the null hypothesis is rejected for X = {}'.format(alpha, X_vals[decisions==1]))\n",
    "    \n",
    "\n",
    "# Running correctness tests: Do not modify\n",
    "hashes = ['cfcd208495d565ef66e7dff9f98764da','c4ca4238a0b923820dcc509a6f75849b']\n",
    "hashes_ids = [0, 0, 0, 0, 1, 0, 0, 0, 1, 1, 0, 0, 0, 1, 1,0, 0, 1, 1, 1]\n",
    "import itertools\n",
    "inputs = itertools.product(alphas, X_vals)\n",
    "outputs = [int(make_decision(*input)) for input in inputs]\n",
    "for (i, output) in enumerate(outputs):\n",
    "    assert(get_hash(output)==hashes[hashes_ids[i]])\n",
    "print(\"All tests passed!!!\")"
   ]
  },
  {
   "cell_type": "markdown",
   "metadata": {},
   "source": [
    "## Part 1.c: P-values\n",
    "Let's take a step back and look at what have we accomplished. We came up with a decision rule that accepts/rejects the null hypothesis for a piece of evidence $X$. The test is parametrized at a level $\\alpha$ chosen a-priori to reflect our aversion to False Positives.\n",
    "\n",
    "However, testing returns a binary output: _Reject_ or _Accept_ (1 or 0). In the example above, at level $\\alpha = 0.01$ we reject the null only for $X=3$, however at level $\\alpha = 0.05$ we reject the null for $X=2$ as well. We have already seen that increasing the FPR increases the rejection region of the test. However you might wonder for $X=2$, what is the smallest $\\alpha$ level, such that the corresponding test rejects the null hypothesis in the favor of the alternative?\n",
    "\n",
    "P-values try to answer exactly that question: \n",
    "\n",
    "**\"Given a point $X$, and a family of tests parametrized by $\\alpha$, what is the smallest $\\alpha$ for which the test rejects the null?\"**\n",
    "\n",
    "$$P(X) = \\min_{\\alpha}: Decision_{\\alpha}(X) = 1$$\n",
    "\n",
    "Hence, P-values tell us something more than just a binary accept/reject answer. The P-value associated with the point $X$ quantifies the *strength of the evidence in the favor of rejecting the null*. Small P-values suggest that the evidence is significant, while large P-values suggest that there is little evidence.\n",
    "\n",
    "### Computing P-values\n",
    "In the cell below write a function that computes the P-values, for a point $X$. \n",
    "\n",
    "**Hint** You already wrote that function in one of the previous exercises, it just had a different name."
   ]
  },
  {
   "cell_type": "code",
   "execution_count": 52,
   "metadata": {
    "collapsed": true
   },
   "outputs": [],
   "source": [
    "def calculate_p_value(X):\n",
    "    \"\"\"\n",
    "    Calculates the P-values for the point X\n",
    "    \n",
    "    Inputs:\n",
    "        X: data point\n",
    "    \n",
    "    Outputs:\n",
    "        p_value: P(X)\n",
    "    \"\"\"\n",
    "    p_value = 1 - norm.cdf(tau) # TODO: fill in\n",
    "    return(p_value)"
   ]
  },
  {
   "cell_type": "markdown",
   "metadata": {},
   "source": [
    "### Distribution of p-values\n",
    "Let's assume 1000 random draws that actually come from the null distribution: \n",
    " $$ x_i \\sim \\mathcal{N}(0, 1) $$"
   ]
  },
  {
   "cell_type": "code",
   "execution_count": 53,
   "metadata": {},
   "outputs": [
    {
     "data": {
      "image/png": "[encoded data removed]",
      "text/plain": [
       "<Figure size 432x288 with 1 Axes>"
      ]
     },
     "metadata": {
      "needs_background": "light"
     },
     "output_type": "display_data"
    }
   ],
   "source": [
    "# NOTE: you just need to run this cell and understand what it does; no code to modify or write here.\n",
    "n = 1000\n",
    "\n",
    "# define the random state to set the seed for consistency\n",
    "# use rs like you would np.random\n",
    "rs = np.random.RandomState(0)\n",
    "\n",
    "# x_a is an n-dimensional vector where each entry is an independent draw from the null distribution\n",
    "X_vec_null = rs.randn(n) \n",
    "\n",
    "p_values = calculate_p_values(X_vec_null)\n",
    "\n",
    "# plot the distribution of p-values for each draw\n",
    "sns.distplot(p_values, kde=False)\n",
    "\n",
    "plt.xlabel(\"p-value\")\n",
    "plt.ylabel(\"frequency\")\n",
    "plt.title(\"Distribution of p-values for data drawn from the null distribution\");"
   ]
  },
  {
   "cell_type": "markdown",
   "metadata": {},
   "source": [
    "Now let's sample 1000 random draws that actually come from the alternative distribution: \n",
    " $$ x_i \\sim \\mathcal{N}(1, 1) $$"
   ]
  },
  {
   "cell_type": "code",
   "execution_count": 54,
   "metadata": {},
   "outputs": [
    {
     "data": {
      "image/png": "[encoded data removed]",
      "text/plain": [
       "<Figure size 432x288 with 1 Axes>"
      ]
     },
     "metadata": {
      "needs_background": "light"
     },
     "output_type": "display_data"
    }
   ],
   "source": [
    "X_vec_alt = rs.randn(n) + 1\n",
    "\n",
    "p_values_b = calculate_p_values(X_vec_alt)\n",
    "\n",
    "# plot the distribution of p-values for each draw\n",
    "sns.distplot(p_values_b, kde=False)\n",
    "plt.xlabel(\"p-value\")\n",
    "plt.ylabel(\"frequency\")\n",
    "plt.title(\"Distribution of p-values for data drawn from the alternative distribution\");"
   ]
  },
  {
   "cell_type": "markdown",
   "metadata": {},
   "source": [
    "### What do you notice?\n",
    "`TODO`: fill in (<=2 sentences) of your observations. \n",
    "\n",
    ".\n",
    ".\n",
    ".\n"
   ]
  },
  {
   "cell_type": "markdown",
   "metadata": {},
   "source": [
    "### Use the decision rule to make decisions for each $X_i$ previously sampled."
   ]
  },
  {
   "cell_type": "code",
   "execution_count": 182,
   "metadata": {},
   "outputs": [
    {
     "name": "stdout",
     "output_type": "stream",
     "text": [
      "Out of 1000 samples from the null distribution, 53 are false positives\n",
      "Out of 1000 samples from the alternative distribution, 247 are true positives\n"
     ]
    },
    {
     "ename": "AssertionError",
     "evalue": "",
     "output_type": "error",
     "traceback": [
      "\u001b[0;31m---------------------------------------------------------------------------\u001b[0m",
      "\u001b[0;31mAssertionError\u001b[0m                            Traceback (most recent call last)",
      "\u001b[0;32m<ipython-input-182-7901abb49d66>\u001b[0m in \u001b[0;36m<module>\u001b[0;34m\u001b[0m\n\u001b[1;32m     16\u001b[0m \u001b[0;34m\u001b[0m\u001b[0m\n\u001b[1;32m     17\u001b[0m \u001b[0;32massert\u001b[0m\u001b[0;34m(\u001b[0m\u001b[0mget_hash\u001b[0m\u001b[0;34m(\u001b[0m\u001b[0mFP\u001b[0m\u001b[0;34m)\u001b[0m\u001b[0;34m==\u001b[0m\u001b[0;34m'd82c8d1619ad8176d665453cfb2e55f0'\u001b[0m\u001b[0;34m)\u001b[0m\u001b[0;34m\u001b[0m\u001b[0;34m\u001b[0m\u001b[0m\n\u001b[0;32m---> 18\u001b[0;31m \u001b[0;32massert\u001b[0m\u001b[0;34m(\u001b[0m\u001b[0mget_hash\u001b[0m\u001b[0;34m(\u001b[0m\u001b[0mTP\u001b[0m\u001b[0;34m)\u001b[0m\u001b[0;34m==\u001b[0m\u001b[0;34m'cfa0860e83a4c3a763a7e62d825349f7'\u001b[0m\u001b[0;34m)\u001b[0m\u001b[0;34m\u001b[0m\u001b[0;34m\u001b[0m\u001b[0m\n\u001b[0m\u001b[1;32m     19\u001b[0m \u001b[0mprint\u001b[0m\u001b[0;34m(\u001b[0m\u001b[0;34m\"Test passed!\"\u001b[0m\u001b[0;34m)\u001b[0m\u001b[0;34m\u001b[0m\u001b[0;34m\u001b[0m\u001b[0m\n",
      "\u001b[0;31mAssertionError\u001b[0m: "
     ]
    }
   ],
   "source": [
    "alpha = 0.05\n",
    "\n",
    "# Make decisions on the samples that come from the null at level alpha\n",
    "decisions_null = make_decision(alpha, X_vec_null) # TODO: fill\n",
    "\n",
    "# Make decisions on the samples that come from the alternative at level alpha\n",
    "decisions_alt = make_decision(alpha, X_vec_alt) # TODO: fill\n",
    "\n",
    "# Compute False Positive\n",
    "FP = sum(decisions_null == 1)\n",
    "print(\"Out of {} samples from the null distribution, {} are false positives\".format(n, FP))\n",
    "\n",
    "# Compute True Positives\n",
    "TP = sum(decisions_alt == 1)\n",
    "print(\"Out of {} samples from the alternative distribution, {} are true positives\".format(n, TP))\n",
    "\n",
    "assert(get_hash(FP)=='d82c8d1619ad8176d665453cfb2e55f0')\n",
    "assert(get_hash(TP)=='cfa0860e83a4c3a763a7e62d825349f7')\n",
    "print(\"Test passed!\")"
   ]
  },
  {
   "cell_type": "markdown",
   "metadata": {},
   "source": [
    "## Extra Credit: Bonus Points\n",
    "- Vary the level $\\alpha$ and plot the ROC curve.\n",
    "- Find the level $\\alpha$ that maximizes the AUC."
   ]
  },
  {
   "cell_type": "markdown",
   "metadata": {},
   "source": [
    "# 2) Multiple Testing: Procedures to control false discovery\n",
    "\n",
    "In the previous example we looked primarily at controling row-wise quantities. And specifically we came up with a decision rules that controls the false positive rate to a desired level $\\alpha$. \n",
    "\n",
    "Now we are switching perspectives and are thiking about a column-wise quantity. Our goal is to control the probability of false discoveries in this decision-making process for multiple hypothesis testing.\n",
    "\n",
    "Now, we are going to imagine that we have a bunch of samples (each drawn either from the null distribution or the alternative distribution). We want to predict whether each sample was generated from $H_0$ or $H_1$ by looking at it's p-value.\n",
    "\n",
    "We will implement three methods for making discoveries:\n",
    "\n",
    "    1. Naive thresholding (ignoring that multiple testing is happening)\n",
    "    2. Using Bonferroni correction to account for multiple testing\n",
    "    3. The Benjamini-Hochberg procedure for multiple testing\n",
    "\n",
    "    \n",
    "or each method, we will assess the decisions made on a simulated data set. "
   ]
  },
  {
   "cell_type": "code",
   "execution_count": 183,
   "metadata": {},
   "outputs": [
    {
     "data": {
      "image/png": "[encoded data removed]",
      "text/plain": [
       "<Figure size 432x288 with 1 Axes>"
      ]
     },
     "metadata": {
      "needs_background": "light"
     },
     "output_type": "display_data"
    }
   ],
   "source": [
    "# NOTE: you just need to run this cell to instantiate variables; don't change this code.\n",
    "\n",
    "rs = np.random.RandomState(0)\n",
    "n = 10000\n",
    "\n",
    "# roughly 80% of the data comes from the null distribution\n",
    "# true_values is an n-dimensional array of indicators, where \"1\" means that x is from the alternative \n",
    "true_values = rs.binomial(1, 0.2, n)\n",
    "\n",
    "# null distribution is N(0, 1) and alternative distribution is N(2, 1)\n",
    "x_obs = rs.randn(n) + 2*true_values\n",
    "\n",
    "sns.distplot(x_obs[np.where(true_values == 0)],  label=\"draws from null $H_0$ distribution\", kde=False)\n",
    "sns.distplot(x_obs[np.where(true_values == 1)],  label=\"daws from alt. $H_1$ distribution\", kde=False)\n",
    "\n",
    "plt.xlabel(\"x\")\n",
    "plt.ylabel(\"frequency\")\n",
    "plt.legend(bbox_to_anchor=(1,1));"
   ]
  },
  {
   "cell_type": "code",
   "execution_count": 184,
   "metadata": {},
   "outputs": [
    {
     "data": {
      "image/png": "[encoded data removed]",
      "text/plain": [
       "<Figure size 432x288 with 1 Axes>"
      ]
     },
     "metadata": {
      "needs_background": "light"
     },
     "output_type": "display_data"
    }
   ],
   "source": [
    "# NOTE: you just need to run this cell and understand what it does; no code to modify or write here. \n",
    "# set alpha \n",
    "alpha = 0.05\n",
    "\n",
    "# calculate the p-values for each individual hypothesis\n",
    "p_values = calculate_p_values(x_obs)\n",
    "\n",
    "bins = np.linspace(0,1,num=20)\n",
    "sns.distplot(p_values[np.where(true_values == 0)],  label=\"draws from null $H_0$ distribution\", kde=False, bins=bins)\n",
    "sns.distplot(p_values[np.where(true_values == 1)],  label=\"daws from alt. $H_1$ distribution\", kde=False,bins=bins)\n",
    "plt.legend(bbox_to_anchor=(1,1))\n",
    "plt.xlabel(\"p-value\")\n",
    "plt.ylabel(\"frequency\");"
   ]
  },
  {
   "cell_type": "markdown",
   "metadata": {},
   "source": [
    "## Part 2.a: Fill in the following functions regarding confusion matrices.\n",
    "\n",
    "These functions will be important for reporting your results in a standardized way; later code assumes that you have implemented them so start here."
   ]
  },
  {
   "cell_type": "code",
   "execution_count": 185,
   "metadata": {
    "collapsed": true
   },
   "outputs": [],
   "source": [
    "def report_results(predicted_discoveries, truth):\n",
    "    \"\"\"\n",
    "    Produces a dictionary with counts for the true positives, true negatives,\n",
    "    false negatives, and false positives from the input `predicted_discoveries`\n",
    "    and `truth` arrays.\n",
    "    \n",
    "    Inputs:\n",
    "      predicted discoveries: array of 0/1 values where 1 indicates a \"discovery\".\n",
    "      truth: array of 0/1 values where 1 indicates a draw from the alternative.\n",
    "    \n",
    "    Outputs: a dictionary of TN, TP, FN, and FP counts.\n",
    "    \"\"\"   \n",
    "    \n",
    "    # populate the following dictionary with counts (NOT rates)\n",
    "    # TODO: fill in each of these counts\n",
    "    TP_count = sum(predicted_discoveries*truth)# TODO: fill in\n",
    "    TN_count = sum((1-predicted_discoveries)*(1-truth))# TODO: fill in\n",
    "    FP_count = sum((predicted_discoveries)*(1-truth))# TODO: fill in\n",
    "    FN_count = sum((1-predicted_discoveries)*(truth))# TODO: fill in\n",
    "    \n",
    "    results_dictionary = {\"TN_count\": TN_count,\n",
    "                          \"TP_count\": TP_count,\n",
    "                          \"FN_count\": FN_count,\n",
    "                          \"FP_count\": FP_count,\n",
    "                         }\n",
    "    \n",
    "    # this function is defined for you below\n",
    "    print_confusion_matrix(results_dictionary)\n",
    "    return results_dictionary\n",
    "\n",
    "def print_false_discovery_fraction(results_dictionary):\n",
    "    total_predicted_discoveries = results_dictionary[\"FP_count\"] + results_dictionary[\"TP_count\"]# TODO: fill in\n",
    "    false_predicted_discoveries = results_dictionary[\"FP_count\"]# TODO: fill in\n",
    "    \n",
    "    # TODO: fill in - compute the false discovery fraction from the `results` dictionary\n",
    "    false_discovery_frac = false_predicted_discoveries/total_predicted_discoveries # TODO: fill in\n",
    "    \n",
    "    print(\"total discoveries: {0}\".format(total_predicted_discoveries))\n",
    "    print(\"fraction of discoveries which were actually false: {0:.3f}\".format(false_discovery_frac))\n",
    "    return total_predicted_discoveries, false_discovery_frac\n",
    "\n",
    "def print_confusion_matrix(res_dict):\n",
    "    # This is a helper function to print the confusion matrix. You don't need to modify this code.\n",
    "    results_df = pd.DataFrame(data = {\"Decision = 0\": [res_dict['TN_count'], res_dict['FN_count']], \n",
    "                                      \"Decision = 1\":  [res_dict['FP_count'], res_dict['TP_count']]},\n",
    "                             index=[\"Truth = 0\", \"Truth = 1\"])\n",
    "    print(results_df)\n"
   ]
  },
  {
   "cell_type": "markdown",
   "metadata": {},
   "source": [
    "## 2b) Naive thresholding\n",
    "Here we will investigate the result of using the threshold $\\alpha = 0.05$ to test each hypothesis independently, ignoring that we are in a multiple testing scenario. \n",
    "\n",
    "Fill in the code for the function below to test each hypothesis at significance level $\\alpha$."
   ]
  },
  {
   "cell_type": "code",
   "execution_count": 186,
   "metadata": {
    "collapsed": true
   },
   "outputs": [],
   "source": [
    "# TODO: calculate decisions based on thresholding\n",
    "def naive_alpha_threshold(p_values, alpha):\n",
    "    \"\"\"\n",
    "    Returns decisions on p-values using naive (uncorrected) thresholding.\n",
    "    \n",
    "    Inputs:\n",
    "        p_values: array of p-values\n",
    "        alpha: threshold (significance level)\n",
    "    \n",
    "    Returns:\n",
    "        decisions: binary array of same length as p-values, where `decisions[i]` is 1\n",
    "        if `p_values[i]` is deemed significant at level `alpha`, and 0 otherwize\n",
    "    \"\"\"\n",
    "    # TODO: fill in all \n",
    "    decisions = p_values <= alpha# TODO: fill in\n",
    "    return decisions"
   ]
  },
  {
   "cell_type": "code",
   "execution_count": 187,
   "metadata": {},
   "outputs": [
    {
     "name": "stdout",
     "output_type": "stream",
     "text": [
      "           Decision = 0  Decision = 1\n",
      "Truth = 0          7628           400\n",
      "Truth = 1           679          1293\n",
      "\n",
      "total discoveries: 1693\n",
      "fraction of discoveries which were actually false: 0.236\n"
     ]
    },
    {
     "data": {
      "text/plain": [
       "(1693, 0.23626698168930893)"
      ]
     },
     "execution_count": 187,
     "metadata": {},
     "output_type": "execute_result"
    }
   ],
   "source": [
    "# Once you've filled in `naive_alpha_threshold`, run this cell to print the results. \n",
    "naive_decisions = naive_alpha_threshold(p_values, alpha)\n",
    "\n",
    "results = report_results(naive_decisions,true_values)\n",
    "print()\n",
    "print_false_discovery_fraction(results)\n"
   ]
  },
  {
   "cell_type": "markdown",
   "metadata": {},
   "source": [
    "## 2c) Bonferroni Correction\n",
    "Here we will investigate the result of using Bonferroni-corrected p-values to declare discoveries.\n",
    "First, implement the Bonfreroni procedure in the function below. \n",
    "\n",
    "Recall that for testing $n$ hypotheses with family-wise error rate (FWER) $\\leq \\alpha$, the resulting procedure is to test each hypothesis with significance $\\frac{\\alpha}{n}$."
   ]
  },
  {
   "cell_type": "code",
   "execution_count": 188,
   "metadata": {
    "collapsed": true
   },
   "outputs": [],
   "source": [
    "# TODO: calculate the decisions based on the bonferroni correction procedure.\n",
    "def bonferroni(p_values, alpha_total):\n",
    "    \"\"\"\n",
    "    Returns decisions on p-values using the Bonferroni correction.\n",
    "    \n",
    "    Inputs:\n",
    "        p_values: array of p-values\n",
    "        alpha_total: desired family-wise error rate (FWER = P(at least one false discovery))\n",
    "    \n",
    "    Returns:\n",
    "        decisions: binary array of same length as p-values, where `decisions[i]` is 1\n",
    "        if `p_values[i]` is deemed significant, and 0 otherwise\n",
    "    \"\"\"\n",
    "    # TODO: fill in all \n",
    "    n = len(p_values)\n",
    "    decisions =  p_values <= alpha/n# TODO: fill in\n",
    "    \n",
    "    return decisions"
   ]
  },
  {
   "cell_type": "code",
   "execution_count": 189,
   "metadata": {},
   "outputs": [
    {
     "name": "stdout",
     "output_type": "stream",
     "text": [
      "           Decision = 0  Decision = 1\n",
      "Truth = 0          8028             0\n",
      "Truth = 1          1957            15\n",
      "\n",
      "total discoveries: 15\n",
      "fraction of discoveries which were actually false: 0.000\n"
     ]
    },
    {
     "data": {
      "text/plain": [
       "(15, 0.0)"
      ]
     },
     "execution_count": 189,
     "metadata": {},
     "output_type": "execute_result"
    }
   ],
   "source": [
    "# Once you've filled in `bonferroni`, run this cell to print the results. \n",
    "bonferroni_decisions = bonferroni(p_values, alpha)\n",
    "\n",
    "results = report_results(bonferroni_decisions,true_values)\n",
    "print()\n",
    "print_false_discovery_fraction(results)\n"
   ]
  },
  {
   "cell_type": "markdown",
   "metadata": {},
   "source": [
    "## 2d) Benjamini-Hochberg\n",
    "Now we will investigate the result of implementing Benjamini-Hochberg procedure for multiple hypothesis testing.\n",
    "First, implement the Benjamini-Hochberg procedure in the function below. \n",
    "\n",
    "Recall that for testing $n$ hypotheses with false discovery rate (FDR) $\\leq \\alpha$, the resulting procedure is to find the largest $k$ such that the $k^{th}$-largest of the $n$ p-values is less than or equal to $k \\frac{\\alpha}{n}$:\n",
    "$$ P_{(k)} \\leq k \\frac{\\alpha}{n}$$\n",
    "We then declare a discovery for all p-values with value less than or equal to this $k^{th}$ p-value. "
   ]
  },
  {
   "cell_type": "code",
   "execution_count": 190,
   "metadata": {
    "collapsed": true
   },
   "outputs": [],
   "source": [
    " def benjamini_hochberg(p_values, alpha):\n",
    "    \"\"\"\n",
    "    Returns decisions on p-values using Benjamini-Hochberg.\n",
    "    \n",
    "    Inputs:\n",
    "        p_values: array of p-values\n",
    "        alpha: desired FDR (FDR = E[# false positives / # positives])\n",
    "    \n",
    "    Returns:\n",
    "        decisions: binary array of same length as p-values, where `decisions[i]` is 1\n",
    "        if `p_values[i]` is deemed significant, and 0 otherwise\n",
    "    \"\"\"\n",
    "    # TODO: fill in all \n",
    "    n = len(p_values)\n",
    "    sorted_p_values = np.sort(p_values)\n",
    "    accepted_index = sorted_p_values <= [alpha/n*i for i in range(1, n+1)]\n",
    "    k = sum(accepted_index) - 1\n",
    "    p_k = sorted_p_values[k]\n",
    "    decisions = p_values <= p_k # TODO: fill in\n",
    "    \n",
    "    return decisions\n",
    "    "
   ]
  },
  {
   "cell_type": "markdown",
   "metadata": {},
   "source": [
    "Now, asses the result of applying the Benjamini Hochberg procedure to the simulated data."
   ]
  },
  {
   "cell_type": "code",
   "execution_count": 191,
   "metadata": {},
   "outputs": [
    {
     "name": "stdout",
     "output_type": "stream",
     "text": [
      "           Decision = 0  Decision = 1\n",
      "Truth = 0          8011            17\n",
      "Truth = 1          1584           388\n",
      "\n",
      "total discoveries: 405\n",
      "fraction of discoveries which were actually false: 0.042\n"
     ]
    },
    {
     "data": {
      "text/plain": [
       "(405, 0.04197530864197531)"
      ]
     },
     "execution_count": 191,
     "metadata": {},
     "output_type": "execute_result"
    }
   ],
   "source": [
    "# Once you've filled in `benjamini_hochberg`, run this cell to print the results.\n",
    "bh_decisions = benjamini_hochberg(p_values, alpha)\n",
    "\n",
    "bh_results = report_results(bh_decisions,true_values)\n",
    "print()\n",
    "\n",
    "print_false_discovery_fraction(bh_results)\n"
   ]
  },
  {
   "cell_type": "markdown",
   "metadata": {},
   "source": [
    "## 2e) Conclusions\n",
    "Finally, write a short (<= 4 sentences) summary comparing the three different methods from this problem."
   ]
  },
  {
   "cell_type": "markdown",
   "metadata": {},
   "source": [
    "TODO: fill in your comparison."
   ]
  },
  {
   "cell_type": "markdown",
   "metadata": {},
   "source": [
    "## Final tests\n",
    "If all the tests below pass you can assume you have successfuly completed the testable parts of the lab. Don't worry about understanding the code below; just make sure no asserts fail."
   ]
  },
  {
   "cell_type": "code",
   "execution_count": 197,
   "metadata": {},
   "outputs": [
    {
     "name": "stdout",
     "output_type": "stream",
     "text": [
      "           Decision = 0  Decision = 1\n",
      "Truth = 0          7628           400\n",
      "Truth = 1           679          1293\n",
      "total discoveries: 1693\n",
      "fraction of discoveries which were actually false: 0.236\n",
      "\n",
      "           Decision = 0  Decision = 1\n",
      "Truth = 0          8028             0\n",
      "Truth = 1          1957            15\n",
      "total discoveries: 15\n",
      "fraction of discoveries which were actually false: 0.000\n",
      "\n",
      "           Decision = 0  Decision = 1\n",
      "Truth = 0          8011            17\n",
      "Truth = 1          1584           388\n",
      "total discoveries: 405\n",
      "fraction of discoveries which were actually false: 0.042\n",
      "\n",
      "All tests passed! You are awesome!\n"
     ]
    }
   ],
   "source": [
    "import hashlib\n",
    "import sys\n",
    "\n",
    "def assert_discoveries(results,\n",
    "                       true_vales,\n",
    "                       true_positives_hash,\n",
    "                       false_positives_hash,\n",
    "                       true_negatives_hash,\n",
    "                       false_negatives_hash,\n",
    "                       false_discovery_frac_hash):\n",
    "    def get_hash(num):\n",
    "        return hashlib.md5(str(num).encode()).hexdigest()\n",
    "    res_dict = report_results(results, true_values)\n",
    "\n",
    "    assert(get_hash(res_dict['TP_count']) == true_positives_hash)\n",
    "    assert(get_hash(res_dict['FP_count']) == false_positives_hash)\n",
    "    assert(get_hash(res_dict['TN_count']) == true_negatives_hash)\n",
    "    assert(get_hash(res_dict['FN_count']) == false_negatives_hash)\n",
    "    _, false_discovery_frac = print_false_discovery_fraction(res_dict)\n",
    "    assert(get_hash(false_discovery_frac) == false_discovery_frac_hash)\n",
    "    print()\n",
    "    \n",
    "\n",
    "assert_discoveries(naive_decisions,\n",
    "                   true_values,\n",
    "                   true_positives_hash=\"7c82fab8c8f89124e2ce92984e04fb40\",\n",
    "                   false_positives_hash=\"18d8042386b79e2c279fd162df0205c8\",\n",
    "                   true_negatives_hash=\"7bb16972da003e87724f048d76b7e0e1\",\n",
    "                    false_negatives_hash=\"ca9c267dad0305d1a6308d2a0cf1c39c\",\n",
    "                   false_discovery_frac_hash=\"87600af3ad8560db2ef1ec43fc0e9877\")\n",
    "\n",
    "assert_discoveries(bonferroni_decisions,\n",
    "                   true_values,\n",
    "                   true_positives_hash=\"9bf31c7ff062936a96d3c8bd1f8f2ff3\",\n",
    "                   false_positives_hash=\"cfcd208495d565ef66e7dff9f98764da\",\n",
    "                   true_negatives_hash=\"f8e918489f1e0a81ff11312f4d0630c1\",\n",
    "                   false_negatives_hash=\"277a78fc05c8864a170e9a56ceeabc4c\",\n",
    "                   false_discovery_frac_hash=\"30565a8911a6bb487e3745c0ea3c8224\")\n",
    "\n",
    "assert_discoveries(bh_decisions,\n",
    "                   true_values,\n",
    "                   true_positives_hash=\"d9fc5b73a8d78fad3d6dffe419384e70\",\n",
    "                   false_positives_hash=\"70efdf2ec9b086079795c442636b55fb\",\n",
    "                   true_negatives_hash=\"e1226495c14f1a62ae17aa76c1f0d457\",\n",
    "                   false_negatives_hash=\"277281aada22045c03945dcb2ca6f2ec\",\n",
    "                   false_discovery_frac_hash=\"cb93eb07af293e7f0fb0949d16e9fdb1\")\n",
    "    \n",
    "print(\"All tests passed! You are awesome!\")"
   ]
  },
  {
   "cell_type": "code",
   "execution_count": null,
   "metadata": {
    "collapsed": true
   },
   "outputs": [],
   "source": []
  }
 ],
 "metadata": {
  "kernelspec": {
   "display_name": "Python 3",
   "language": "python",
   "name": "python3"
  },
  "language_info": {
   "codemirror_mode": {
    "name": "ipython",
    "version": 3
   },
   "file_extension": ".py",
   "mimetype": "text/x-python",
   "name": "python",
   "nbconvert_exporter": "python",
   "pygments_lexer": "ipython3",
   "version": "3.6.3"
  }
 },
 "nbformat": 4,
 "nbformat_minor": 2
}
