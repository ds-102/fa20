{
 "cells": [
  {
   "cell_type": "markdown",
   "metadata": {},
   "source": [
    "# Lab 1:  Basics of Testing\n",
    "Welcome to the first Data 102 lab! \n",
    "\n",
    "The goals of this lab are to get familiar with concepts in decision theory. We will learn more about testing, p-values and FDR control.\n",
    "\n",
    "The code you need to write is commented out with a message **\"TODO: fill in\"**. There is additional documentation for each part as you go along.\n",
    "\n",
    "\n",
    "## Collaboration Policy\n",
    "Data science is a collaborative activity. While you may talk with others about the labs, we ask that you **write your solutions individually**. If you do discuss the assignments with others please **include their names** in the cell below.\n",
    "\n",
    "## Submission\n",
    "To submit this assignment, rerun the notebook from scratch (by selecting Kernel > Restart & Run all), and then print as a pdf (File > download as > pdf) and submit it to Gradescope.\n",
    "\n",
    "\n",
    "**This assignment should be completed and submitted before Wednesday, Sep 9th, 2020 at 11:59 PM. PST**"
   ]
  },
  {
   "cell_type": "markdown",
   "metadata": {},
   "source": [
    "## Collaborators\n",
    "Write the names of your collaborators in this cell.\n",
    "\n",
    "`<Collaborator Name> <Collaborator e-mail>`"
   ]
  },
  {
   "cell_type": "markdown",
   "metadata": {},
   "source": [
    "# Setup\n",
    "Let's begin by importing the libraries we will use. You can find the documentation for the libraries here:\n",
    "* matplotlib: https://matplotlib.org/3.1.1/contents.html\n",
    "* numpy: https://docs.scipy.org/doc/\n",
    "* pandas: https://pandas.pydata.org/pandas-docs/stable/\n",
    "* seaborn: https://seaborn.pydata.org/"
   ]
  },
  {
   "cell_type": "code",
   "execution_count": 1,
   "metadata": {},
   "outputs": [
    {
     "name": "stderr",
     "output_type": "stream",
     "text": [
      "/Users/mcurmei/anaconda3/lib/python3.7/site-packages/statsmodels/tools/_testing.py:19: FutureWarning: pandas.util.testing is deprecated. Use the functions in the public API at pandas.testing instead.\n",
      "  import pandas.util.testing as tm\n"
     ]
    }
   ],
   "source": [
    "import matplotlib.pyplot as plt\n",
    "import numpy as np\n",
    "import pandas as pd\n",
    "import seaborn as sns\n",
    "from scipy.stats import norm\n",
    "\n",
    "import hashlib\n",
    "%matplotlib inline\n",
    "\n",
    "sns.set(style=\"dark\")\n",
    "plt.style.use(\"ggplot\")\n",
    "\n",
    "def get_hash(num):  # <- helper function for assessing correctness\n",
    "    return hashlib.md5(str(num).encode()).hexdigest()"
   ]
  },
  {
   "cell_type": "markdown",
   "metadata": {},
   "source": [
    "# Question 1: Hypothesis testing, LRT, decision rules, P-values.\n",
    "\n",
    "The first question looks at the basics of testing. You will have to put yourself in the shoes of a detective who is trying to use 'evidence' to find the 'truth'. Given a piece of evidence $X$ your job will be to decide between two hypotheses. The two hypothesis you consider are:\n",
    "\n",
    "_The null hypothesis:_\n",
    "$$ H_0: X\\sim \\mathcal{N}(0,1)$$\n",
    "_The alternative hypothesis:_\n",
    "$$ H_1: X \\sim \\mathcal{N}(2,1)$$\n",
    "\n",
    "Granted you don't know the truth, but you have to make a decision that maximizes the True Positive Probability and minimizes the False Positive Probability.\n",
    "\n",
    "**In this exercise you will look at:**\n",
    " - The intuitive relationship between Likelihood Ratio Test and decisions based on thresholding $X$.\n",
    " - The performance of a level-$\\alpha$ test.\n",
    " - The distribution of p-values for samples from the null distribution as well as samples from the alternative.\n",
    " \n",
    "#### Let's start by plotting the distributions of the null and alternative hypothesis.\n"
   ]
  },
  {
   "cell_type": "code",
   "execution_count": 2,
   "metadata": {},
   "outputs": [
    {
     "data": {
      "image/png": "[encoded data removed]",
      "text/plain": [
       "<Figure size 432x288 with 1 Axes>"
      ]
     },
     "metadata": {
      "needs_background": "light"
     },
     "output_type": "display_data"
    }
   ],
   "source": [
    "# NOTE: you just need to run this cell to plot the pdf; don't change this code.\n",
    "def null_pdf(x):\n",
    "    return norm.pdf(x,0,1)\n",
    "def alt_pdf(x):\n",
    "    return norm.pdf(x,2,1)\n",
    "\n",
    "# Plot the distribution under the null and alternative\n",
    "x_axis = np.arange(-4, 6, 0.001)\n",
    "\n",
    "plt.plot(x_axis, null_pdf(x_axis), label = '$H_0$') # <- likelihood under the null\n",
    "plt.fill_between(x_axis, null_pdf(x_axis), alpha = 0.3)\n",
    "\n",
    "plt.plot(x_axis, alt_pdf(x_axis),  label = '$H_1$') # <- likelihood alternative\n",
    "plt.fill_between(x_axis, alt_pdf(x_axis), alpha = 0.3)\n",
    "\n",
    "plt.xlabel(\"X\")\n",
    "plt.ylabel(\"Likelihood\")\n",
    "plt.title(\"Comparison of null and alternative likelihoods\");\n",
    "plt.legend()\n",
    "plt.tight_layout()\n",
    "plt.show()"
   ]
  },
  {
   "cell_type": "markdown",
   "metadata": {},
   "source": [
    "By inspecting the image above we can see that if the data lies towards the right, then it seems more plausible that the alternative is true. For example $X\\geq1.64$ seems much less likely to belong to the null pdf than the alternative pdf.\n",
    "\n",
    "### Likelihood Ratio Test\n",
    "In class we said that the optimal test is the Likelihood Ratio Test (LRT), which is the result of the celebrated Neyman-Pearson Lemma. It says that the optimal level $\\alpha$ test is the one that rejects the null (aka makes a discovery, accepts the alternative) whenever:\n",
    "$$LR(x):=\\frac{f_1(x)}{f_0(x)} \\geq \\eta$$\n",
    "where $\\eta$ is chosen such that the false positive rate is equal to $\\alpha$.\n",
    "\n",
    "### But how does this result fit with the intuition that we should set a decision threshold based on the value of $X$ directly?\n",
    "\n",
    "This exercise will formalize that intuition:\n",
    "\n",
    "Let's start by computing the ratio of the likelihoods. The likelihood of $X\\sim \\mathcal N(\\mu,\\sigma)$ is:\n",
    "$$f_{\\sigma, \\mu}(x) = \\frac{1}{\\sigma\\sqrt{2\\pi}} e^{-\\frac{(x-\\mu)^2}{2\\sigma^2}}$$\n",
    "\n",
    "Luckily `scipy` has a nifty function to compute the likelihood of gaussians `scipy.norm.pdf(x, mu, sigma)`\n",
    "\n",
    "\n",
    " \n",
    "## Part 1.a:  Calculate likelihood ratios\n",
    "\n",
    "Complete the function below that computes the likelihood ratio for any value `x`."
   ]
  },
  {
   "cell_type": "code",
   "execution_count": 3,
   "metadata": {},
   "outputs": [],
   "source": [
    "# TODO: fill in the missing expression for the likelihood ratio in the function below\n",
    "def calculate_likelihood_ratio(x):\n",
    "    \"\"\"\n",
    "    Computes the likelihood ratio between the alternative and null hypothesis.\n",
    "    \n",
    "    Inputs:\n",
    "        x: value for which to compute the likelihool ratio\n",
    "    \n",
    "    Outputs:\n",
    "        lr : the likelihood ratio at point x\n",
    "    \"\"\"\n",
    "    \n",
    "    L0 = null_pdf(x)\n",
    "    L1 = alt_pdf(x)\n",
    "    LR = L1/L0# TODO: fill the likelihood ratio\n",
    "    return LR"
   ]
  },
  {
   "cell_type": "code",
   "execution_count": 4,
   "metadata": {},
   "outputs": [
    {
     "name": "stdout",
     "output_type": "stream",
     "text": [
      "3.59663972556928\n",
      "Test passed!\n"
     ]
    }
   ],
   "source": [
    "# Compute the likelihood ratio for X=1.64\n",
    "X=1.64\n",
    "LR = calculate_likelihood_ratio(X)\n",
    "print(LR)\n",
    "assert(get_hash(LR)== 'f9983e1a6585502f3006cb6d1c1edec3')\n",
    "print(\"Test passed!\")"
   ]
  },
  {
   "cell_type": "markdown",
   "metadata": {},
   "source": [
    "#### Let's plot the likelihood ratios for different values of $X$:"
   ]
  },
  {
   "cell_type": "code",
   "execution_count": 5,
   "metadata": {},
   "outputs": [
    {
     "data": {
      "image/png": "[encoded data removed]",
      "text/plain": [
       "<Figure size 432x288 with 1 Axes>"
      ]
     },
     "metadata": {
      "needs_background": "light"
     },
     "output_type": "display_data"
    }
   ],
   "source": [
    "# The code below plots the LR for different values of X\n",
    "# Once you've filled in `calculate_likelihood_ratio` run this cell and inspect the plot\n",
    "x_axis = np.arange(-1, 3, 0.001)\n",
    "plt.plot(x_axis, calculate_likelihood_ratio(x_axis))\n",
    "plt.vlines(X, 0, LR, linestyle=\"dotted\", color='k')\n",
    "plt.hlines(LR, -1, X, linestyle=\"dotted\", color='k')\n",
    "plt.scatter(X, LR, 30, color='k')\n",
    "plt.xlabel(\"X\")\n",
    "plt.ylabel(\"Likelihood Ratio\")\n",
    "plt.title(\"Comparison of null and alternative likelihoods\");\n",
    "plt.tight_layout()\n",
    "plt.show()"
   ]
  },
  {
   "cell_type": "markdown",
   "metadata": {},
   "source": [
    "The plot above illustrates that deciding based on LRT with $\\eta = 3.6$ is equivalent to deciding in the favor of the alternative whenever $X\\geq 1.64$. The set $[1.64, +\\infty)$ is called the **rejection region** of the test, because for all X values in the rejection region the test rejects the null in the favor of the alternative. This illustrates that our intuition was correct.\n",
    "\n",
    "When thinking in terms of likelihood ratios it seems very tricky to compute the False Positive Rate (FPR), however in this case we can bypass that by testing based on the value of $X$.\n",
    "\n",
    "#### The figure below illustrates pictorially the FPR when testing based on the threshold $X\\geq1.64$\n"
   ]
  },
  {
   "cell_type": "code",
   "execution_count": 6,
   "metadata": {},
   "outputs": [
    {
     "data": {
      "image/png": "[encoded data removed]",
      "text/plain": [
       "<Figure size 432x288 with 1 Axes>"
      ]
     },
     "metadata": {
      "needs_background": "light"
     },
     "output_type": "display_data"
    }
   ],
   "source": [
    "x_axis = np.arange(-4, 5, 0.001)\n",
    "\n",
    "\n",
    "plt.plot(x_axis, null_pdf(x_axis), label = '$H_0$') # <- likelihood under the null\n",
    "plt.plot(x_axis, alt_pdf(x_axis),  label = '$H_1$') # <- likelihood alternative\n",
    "\n",
    "rejection_region = np.arange(X, 5, 0.001) # <- truncate the true rejection region for plotting purposes\n",
    "plt.fill_between(rejection_region, null_pdf(rejection_region), alpha = 0.3, label=\"FPR\")\n",
    "\n",
    "plt.xlabel(\"X\")\n",
    "plt.ylabel(\"Likelihood\")\n",
    "plt.title(\"Comparison of null and alternative likelihoods\");\n",
    "plt.legend()\n",
    "plt.tight_layout()\n",
    "plt.show()"
   ]
  },
  {
   "cell_type": "markdown",
   "metadata": {},
   "source": [
    "Under the null hypothesis it is still possible to observe values in the tail of distribution. The probability of that happening is exactly FPR (and it is illustrated by the shaded area under the null curve). Assume that we are using the test that rejects for all $X \\geq \\tau$. FPR can then be computed as:\n",
    "\n",
    "$$FPR(\\tau) = \\mathbb{P}\\{X>\\tau|H_0 \\text{ is true}\\} = 1 - \\mathbb{P}\\{X<\\tau|H_0 \\text{ is true}\\} = 1 - F(\n",
    "\\tau)$$\n",
    "\n",
    "where $F(\\cdot)$ denotes the CDF of the null distributions, which in this case is the standard gaussian. \n",
    "\n",
    "## Part 1.b: Calculate the probability of False Positives\n",
    "In the cell below calculate the FPR for this test. \n",
    "\n",
    "**Hint**, the cdf of a standard normal might come in handy for this function: `scipy.stats.norm.cdf`"
   ]
  },
  {
   "cell_type": "code",
   "execution_count": 7,
   "metadata": {},
   "outputs": [],
   "source": [
    "# TODO: fill in the missing expression for FPR\n",
    "def calculate_fpr(tau):\n",
    "    \"\"\"\n",
    "    Calculates the FPR for the test based on thresholding X>=tau.\n",
    "    It assumes that the null distribution is the standard gaussian N(0,1)\n",
    "    \n",
    "    Inputs:\n",
    "        tau: test threshold\n",
    "    \n",
    "    Outputs:\n",
    "        fpr: false positive rate\n",
    "    \"\"\"\n",
    "    fpr = 1 - norm.cdf(tau) # TODO: fill in\n",
    "    return fpr\n",
    "\n"
   ]
  },
  {
   "cell_type": "code",
   "execution_count": 8,
   "metadata": {},
   "outputs": [
    {
     "name": "stdout",
     "output_type": "stream",
     "text": [
      "Test passed!!!\n"
     ]
    }
   ],
   "source": [
    "# Once you've filled `calculate_fpr` you can run this to test for correctness\n",
    "thresholds = [0, 0.5, 1, 2, 3]\n",
    "fpr_vals = calculate_fpr(thresholds)\n",
    "hash_list = ['d310cb367d993fb6fb584b198a2fd72c', \n",
    "             '77d8304f0ac6b94895e8061eff588d52', \n",
    "             'df26eb4f07782680a6d98b89313aadc1', \n",
    "             'e575e59c20eeeda5d6a29f5ed3e1e2c7', \n",
    "             'f233728ef2007eef8f97f8432837feee']\n",
    "assert[get_hash(fpr) == hash_list[i] for (i, fpr) in enumerate(fpr_vals)]\n",
    "print(\"Test passed!!!\")"
   ]
  },
  {
   "cell_type": "markdown",
   "metadata": {},
   "source": [
    "#### Let's now compute the FPR for a test that rejects whenever $X\\geq 1.64$"
   ]
  },
  {
   "cell_type": "code",
   "execution_count": 9,
   "metadata": {},
   "outputs": [
    {
     "name": "stdout",
     "output_type": "stream",
     "text": [
      "0.050502583474103746\n"
     ]
    }
   ],
   "source": [
    "# Calculate the false positive rate\n",
    "X = 1.64\n",
    "fpr = calculate_fpr(X)\n",
    "print(fpr)"
   ]
  },
  {
   "cell_type": "markdown",
   "metadata": {},
   "source": [
    "#### Looks like we got really lucky!!! The threshold we choose has a FPR of $\\sim 5\\%$. \n",
    "\n",
    "## Part 1.c: Make a level-$\\alpha$ decision rule\n",
    "\n",
    "Complete the function below to create a decision rule that has $FPR=\\alpha$. Given that we are working with Gaussian this test is exactly the Z-score test that you might have learned in previous classes.\n",
    "\n",
    "**Hint**, the inverse cdf of a standard normal might come in handy for this function: `scipy.stats.norm.ppf`\n"
   ]
  },
  {
   "cell_type": "code",
   "execution_count": 10,
   "metadata": {},
   "outputs": [],
   "source": [
    "# TODO: complete this function\n",
    "def make_decision(X, alpha):\n",
    "    \"\"\"\n",
    "    Makes a decision whether to accept or reject the null hypothesis for point X at level alpha\n",
    "    \n",
    "    Inputs:\n",
    "        X: point at which to test\n",
    "        alpha: desired FPR rate for the decision rule (also known as significance level)\n",
    "    \n",
    "    Outputs:\n",
    "        decision: {0, 1} 0-accept the null, 1-reject the null\n",
    "    \"\"\"\n",
    "    \n",
    "    threshold = norm.ppf(1-alpha) # TODO: compute the threshold for which the FPR of the test is equal to alpha (see Hint)\n",
    "    decision = X>=threshold # TODO: compute the decision; 1 stands for rejecting the null\n",
    "    return decision"
   ]
  },
  {
   "cell_type": "code",
   "execution_count": 11,
   "metadata": {},
   "outputs": [
    {
     "name": "stdout",
     "output_type": "stream",
     "text": [
      "At FPR=0.01 the null hypothesis is rejected for X = [3.]\n",
      "At FPR=0.05 the null hypothesis is rejected for X = [2. 3.]\n",
      "At FPR=0.1 the null hypothesis is rejected for X = [2. 3.]\n",
      "At FPR=0.2 the null hypothesis is rejected for X = [1. 2. 3.]\n"
     ]
    }
   ],
   "source": [
    "# Once you've filled `make_decision` run this to perform this test \n",
    "# for a few values of X at different levels alpha\n",
    "X_vals = np.array([0, 0.5, 1, 2, 3])\n",
    "alphas = np.array([0.01, 0.05, 0.1, 0.2])\n",
    "for alpha in alphas:\n",
    "    decisions = make_decision(X_vals, alpha)\n",
    "    print('At FPR={} the null hypothesis is rejected for X = {}'.format(alpha, X_vals[decisions==1]))"
   ]
  },
  {
   "cell_type": "code",
   "execution_count": 12,
   "metadata": {},
   "outputs": [
    {
     "name": "stdout",
     "output_type": "stream",
     "text": [
      "Test passed!!!\n"
     ]
    }
   ],
   "source": [
    "# Running correctness tests: Do not modify\n",
    "hashes = ['cfcd208495d565ef66e7dff9f98764da','c4ca4238a0b923820dcc509a6f75849b']\n",
    "hashes_ids = [0, 0, 0, 0, 0, 0, 0, 0, 0, 0, 0, 1, 0, 1, 1, 1, 1, 1, 1, 1]\n",
    "import itertools\n",
    "inputs = itertools.product(X_vals, alphas)\n",
    "outputs = [int(make_decision(*input)) for input in inputs]\n",
    "for (i, output) in enumerate(outputs):\n",
    "    assert(get_hash(output)==hashes[hashes_ids[i]])\n",
    "print(\"Test passed!!!\")"
   ]
  },
  {
   "cell_type": "markdown",
   "metadata": {},
   "source": [
    "## Part 1.d: Compute P-values\n",
    "Let's take a step back and look at what have we accomplished. We came up with a decision rule that accepts/rejects the null hypothesis for a piece of evidence $X$. The test is parametrized at a level $\\alpha$ chosen a-priori to reflect our aversion to False Positives.\n",
    "\n",
    "However, testing returns a binary output: _Reject_ or _Accept_ (1 or 0). In the example above, at level $\\alpha = 0.01$ we reject the null only for $X=3$, however at level $\\alpha = 0.05$ we reject the null for $X=2$ as well. We have already seen that increasing the FPR increases the rejection region of the test. However you might wonder for $X=2$, what is the smallest $\\alpha$ level, such that the corresponding test rejects the null hypothesis in the favor of the alternative?\n",
    "\n",
    "P-values try to answer exactly that question: \n",
    "\n",
    "**\"Given a point $X$, and a family of tests parametrized by $\\alpha$, what is the smallest $\\alpha$ for which the test rejects the null?\"**\n",
    "\n",
    "$$p(X) = \\min_{\\alpha}: Decision_{\\alpha}(X) = 1$$\n",
    "\n",
    "Hence, P-values tell us something more than just a binary accept/reject answer. The P-value associated with the point $X$ quantifies the *strength of the evidence in the favor of rejecting the null*. Small P-values suggest that the evidence is significant, while large P-values suggest that there is little evidence.\n",
    "\n",
    "### In the cell below write a function that computes the P-values, for a point $X$. \n",
    "\n",
    "**Hint**: You already wrote that function in one of the previous exercises, it just had a different name."
   ]
  },
  {
   "cell_type": "code",
   "execution_count": 13,
   "metadata": {},
   "outputs": [],
   "source": [
    "# TODO: complete this function\n",
    "def calculate_p_value(X):\n",
    "    \"\"\"\n",
    "    Calculates the P-values for the point X\n",
    "    \n",
    "    Inputs:\n",
    "        X: data point\n",
    "    \n",
    "    Outputs:\n",
    "        p_value: P(X)\n",
    "    \"\"\"\n",
    "    p_value = 1 - norm.cdf(X) # TODO: fill in\n",
    "    return(p_value)"
   ]
  },
  {
   "cell_type": "code",
   "execution_count": 14,
   "metadata": {},
   "outputs": [
    {
     "name": "stdout",
     "output_type": "stream",
     "text": [
      "X = 0.0, P(X) = 0.5\n",
      "X = 0.5, P(X) = 0.3085375387259869\n",
      "X = 1.0, P(X) = 0.15865525393145707\n",
      "X = 2.0, P(X) = 0.02275013194817921\n",
      "X = 3.0, P(X) = 0.0013498980316301035\n",
      "\n"
     ]
    }
   ],
   "source": [
    "# Once you've filled `calculate_p_value`, run this to compute P-Values for a few X samples.\n",
    "X_vals = np.array([0, 0.5, 1, 2, 3])\n",
    "[print('X = {}, P(X) = {}'.format(X, calculate_p_value(X))) for X in X_vals]\n",
    "print()"
   ]
  },
  {
   "cell_type": "code",
   "execution_count": 15,
   "metadata": {},
   "outputs": [
    {
     "name": "stdout",
     "output_type": "stream",
     "text": [
      "Test passed!!!\n"
     ]
    }
   ],
   "source": [
    "# Running correctness tests: Do not modify\n",
    "p_vals = calculate_p_value(X_vals)\n",
    "hash_list = ['d310cb367d993fb6fb584b198a2fd72c', \n",
    "             '77d8304f0ac6b94895e8061eff588d52', \n",
    "             'df26eb4f07782680a6d98b89313aadc1', \n",
    "             'e575e59c20eeeda5d6a29f5ed3e1e2c7', \n",
    "             'f233728ef2007eef8f97f8432837feee']\n",
    "assert[get_hash(pv) == hash_list[i] for (i, pv) in enumerate(p_vals)]\n",
    "print(\"Test passed!!!\")"
   ]
  },
  {
   "cell_type": "markdown",
   "metadata": {},
   "source": [
    "## Part 1.e: Distribution of p-values\n",
    "Now, we are going to imagine that we have a bunch of samples (each drawn either from the null distribution or the alternative distribution). We want to predict whether each sample was generated from $H_0$ or $H_1$ by looking at it's p-value. As a reminder, the two hypothesis to consider are:\n",
    "\n",
    "_The null hypothesis:_\n",
    "$$ H_0: X\\sim \\mathcal{N}(0,1)$$\n",
    "_The alternative hypothesis:_\n",
    "$$ H_1: X \\sim \\mathcal{N}(2,1)$$\n",
    "\n",
    "Assume there are $n=10000$ draws, approximatively 80% of which are nulls (Reality = 0)."
   ]
  },
  {
   "cell_type": "code",
   "execution_count": 16,
   "metadata": {},
   "outputs": [
    {
     "data": {
      "image/png": "[encoded data removed]",
      "text/plain": [
       "<Figure size 432x288 with 1 Axes>"
      ]
     },
     "metadata": {
      "needs_background": "light"
     },
     "output_type": "display_data"
    }
   ],
   "source": [
    "# NOTE: you just need to run this cell to instantiate variables; don't change this code.\n",
    "\n",
    "rs = np.random.RandomState(0)\n",
    "n = 10000\n",
    "\n",
    "# roughly 80% of the data comes from the null distribution\n",
    "# true_values is an n-dimensional array of indicators, where \"1\" means that x is from the alternative \n",
    "true_values = rs.binomial(1, 0.2, n)\n",
    "\n",
    "# null distribution is N(0, 1) and alternative distribution is N(2, 1)\n",
    "x_obs = rs.randn(n) + 2*true_values\n",
    "\n",
    "sns.distplot(x_obs[np.where(true_values == 0)],  label=\"samples from null $H_0$ distribution\", kde=False)\n",
    "sns.distplot(x_obs[np.where(true_values == 1)],  label=\"samples from alt. $H_1$ distribution\", kde=False)\n",
    "\n",
    "plt.xlabel(\"x\")\n",
    "plt.ylabel(\"frequency\")\n",
    "plt.legend(bbox_to_anchor=(1,1));"
   ]
  },
  {
   "cell_type": "code",
   "execution_count": 17,
   "metadata": {},
   "outputs": [
    {
     "data": {
      "image/png": "[encoded data removed]",
      "text/plain": [
       "<Figure size 432x288 with 1 Axes>"
      ]
     },
     "metadata": {
      "needs_background": "light"
     },
     "output_type": "display_data"
    }
   ],
   "source": [
    "# NOTE: you just need to run this cell and understand what it does; no code to modify or write here. \n",
    "# calculate the p-values for each individual hypothesis\n",
    "p_values = calculate_p_value(x_obs)\n",
    "\n",
    "bins = np.linspace(0,1,num=20)\n",
    "sns.distplot(p_values[np.where(true_values == 0)],  label=\"samples from null $H_0$ distribution\", kde=False, bins=bins)\n",
    "sns.distplot(p_values[np.where(true_values == 1)],  label=\"samples from alt. $H_1$ distribution\", kde=False,bins=bins)\n",
    "plt.legend(bbox_to_anchor=(1,1))\n",
    "plt.xlabel(\"p-value\")\n",
    "plt.ylabel(\"frequency\");"
   ]
  },
  {
   "cell_type": "markdown",
   "metadata": {},
   "source": [
    "### What do you notice?\n",
    "\n",
    "The p-values corresponding to sample data points that came from the null are uniformly distributed in the interval [0,1]. The p-values of samples from the alternative have a much more skewed distribution. A large number of the alternative p-values fall into the [0.0-0.05] bucket, which suggests that this test has a reasonable TPR."
   ]
  },
  {
   "cell_type": "markdown",
   "metadata": {},
   "source": [
    "# Question 2: Multiple Testing - Procedures to control false discovery rate.\n",
    "\n",
    "In the previous example we looked primarily at controling row-wise quantities. And specifically we came up with a decision rules that controls the false positive rate to a desired level $\\alpha$. \n",
    "\n",
    "Now we are switching perspectives and are thiking about a column-wise quantity. Our goal is to control the probability of false discoveries in this decision-making process for multiple hypothesis testing.\n",
    "\n",
    "We will use three methods for making discoveries:\n",
    "\n",
    "    1. Naive thresholding (ignoring that multiple testing is happening)\n",
    "    2. Using Bonferroni correction to account for multiple testing\n",
    "    3. The Benjamini-Hochberg procedure for multiple testing\n",
    "\n",
    "    \n",
    "or each method, we will assess the decisions made on a simulated data set. "
   ]
  },
  {
   "cell_type": "markdown",
   "metadata": {},
   "source": [
    "## Part 2.a: Fill in the following functions regarding confusion matrices.\n",
    "\n",
    "These functions will be important for reporting your results in a standardized way; later code assumes that you have implemented them so start here."
   ]
  },
  {
   "cell_type": "code",
   "execution_count": 18,
   "metadata": {},
   "outputs": [],
   "source": [
    "# TODO: complete this function\n",
    "def report_results(predicted_discoveries, truth):\n",
    "    \"\"\"\n",
    "    Produces a dictionary with counts for the true positives, true negatives,\n",
    "    false negatives, and false positives from the input `predicted_discoveries`\n",
    "    and `truth` arrays.\n",
    "    \n",
    "    Inputs:\n",
    "      predicted discoveries: array of 0/1 values where 1 indicates a \"discovery\".\n",
    "      truth: array of 0/1 values where 1 indicates a draw from the alternative.\n",
    "    \n",
    "    Outputs: a dictionary of TN, TP, FN, and FP counts.\n",
    "    \"\"\"   \n",
    "    \n",
    "    # populate the following dictionary with counts (NOT rates)\n",
    "    # TODO: fill in each of these counts\n",
    "    TP_count = sum(predicted_discoveries*truth)# TODO: fill in\n",
    "    TN_count = sum((1-predicted_discoveries)*(1-truth))# TODO: fill in\n",
    "    FP_count = sum((predicted_discoveries)*(1-truth))# TODO: fill in\n",
    "    FN_count = sum((1-predicted_discoveries)*(truth))# TODO: fill in\n",
    "    \n",
    "    results_dictionary = {\"TN_count\": TN_count,\n",
    "                          \"TP_count\": TP_count,\n",
    "                          \"FN_count\": FN_count,\n",
    "                          \"FP_count\": FP_count,\n",
    "                         }\n",
    "    \n",
    "    # this function is defined for you below\n",
    "    print_confusion_matrix(results_dictionary)\n",
    "    return results_dictionary\n",
    "\n",
    "# TODO: complete this function\n",
    "def print_false_discovery_fraction(results_dictionary):\n",
    "    total_predicted_discoveries = results_dictionary[\"FP_count\"] + results_dictionary[\"TP_count\"]# TODO: fill in\n",
    "    false_predicted_discoveries = results_dictionary[\"FP_count\"]# TODO: fill in\n",
    "    \n",
    "    # TODO: fill in - compute the false discovery fraction from the `results` dictionary\n",
    "    false_discovery_frac = false_predicted_discoveries/total_predicted_discoveries # TODO: fill in\n",
    "    \n",
    "    print(\"total discoveries: {0}\".format(total_predicted_discoveries))\n",
    "    print(\"fraction of discoveries which were actually false: {0:.3f}\".format(false_discovery_frac))\n",
    "    return total_predicted_discoveries, false_discovery_frac\n",
    "\n",
    "def print_confusion_matrix(res_dict):\n",
    "    # This is a helper function to print the confusion matrix. You don't need to modify this code.\n",
    "    results_df = pd.DataFrame(data = {\"Decision = 0\": [res_dict['TN_count'], res_dict['FN_count']], \n",
    "                                      \"Decision = 1\":  [res_dict['FP_count'], res_dict['TP_count']]},\n",
    "                             index=[\"Truth = 0\", \"Truth = 1\"])\n",
    "    print(results_df)\n"
   ]
  },
  {
   "cell_type": "markdown",
   "metadata": {},
   "source": [
    "## Part 2.b: Naive thresholding\n",
    "Here we will investigate the result of using the threshold $\\alpha = 0.05$ to test each hypothesis independently, ignoring that we are in a multiple testing scenario. \n",
    "\n",
    "Fill in the code for the function below to test each hypothesis at significance level $\\alpha$.\n",
    "\n",
    "**Hint** this is very simular to the `make_decision` function you wrote in Problem 1. There the input to the test was the sample value $X$, however here the input is P-value: $p(X)$."
   ]
  },
  {
   "cell_type": "code",
   "execution_count": 19,
   "metadata": {},
   "outputs": [],
   "source": [
    "# TODO: calculate decisions based on thresholding\n",
    "def naive_alpha_threshold(p_values, alpha):\n",
    "    \"\"\"\n",
    "    Returns decisions on p-values using naive (uncorrected) thresholding.\n",
    "    \n",
    "    Inputs:\n",
    "        p_values: array of p-values\n",
    "        alpha: threshold (significance level)\n",
    "    \n",
    "    Returns:\n",
    "        decisions: binary array of same length as p-values, where `decisions[i]` is 1\n",
    "        if `p_values[i]` is deemed significant at level `alpha`, and 0 otherwize\n",
    "    \"\"\"\n",
    "    # TODO: fill in all \n",
    "    decisions = p_values <= alpha# TODO: fill in\n",
    "    return decisions"
   ]
  },
  {
   "cell_type": "code",
   "execution_count": 20,
   "metadata": {},
   "outputs": [
    {
     "name": "stdout",
     "output_type": "stream",
     "text": [
      "           Decision = 0  Decision = 1\n",
      "Truth = 0          7628           400\n",
      "Truth = 1           679          1293\n",
      "\n",
      "total discoveries: 1693\n",
      "fraction of discoveries which were actually false: 0.236\n",
      "\n"
     ]
    }
   ],
   "source": [
    "# Once you've filled in `naive_alpha_threshold`, run this cell to print the results.\n",
    "# set alpha \n",
    "alpha = 0.05\n",
    "\n",
    "# Using the p-values from Part 1.e, we compute the decision according to the naive function\n",
    "naive_decisions = naive_alpha_threshold(p_values, alpha)\n",
    "\n",
    "results = report_results(naive_decisions,true_values)\n",
    "print()\n",
    "print_false_discovery_fraction(results)\n",
    "print()"
   ]
  },
  {
   "cell_type": "markdown",
   "metadata": {},
   "source": [
    "## Part 2.c: Bonferroni Correction\n",
    "Here we will investigate the result of using Bonferroni-corrected p-values to declare discoveries.\n",
    "First, implement the Bonfreroni procedure in the function below. \n",
    "\n",
    "Recall that for testing $n$ hypotheses with family-wise error rate (FWER) $\\leq \\alpha$, the resulting procedure is to test each hypothesis with significance $\\frac{\\alpha}{n}$."
   ]
  },
  {
   "cell_type": "code",
   "execution_count": 21,
   "metadata": {},
   "outputs": [],
   "source": [
    "# TODO: calculate the decisions based on the bonferroni correction procedure.\n",
    "def bonferroni(p_values, alpha_total):\n",
    "    \"\"\"\n",
    "    Returns decisions on p-values using the Bonferroni correction.\n",
    "    \n",
    "    Inputs:\n",
    "        p_values: array of p-values\n",
    "        alpha_total: desired family-wise error rate (FWER = P(at least one false discovery))\n",
    "    \n",
    "    Returns:\n",
    "        decisions: binary array of same length as p-values, where `decisions[i]` is 1\n",
    "        if `p_values[i]` is deemed significant, and 0 otherwise\n",
    "    \"\"\"\n",
    "    # TODO: fill in all \n",
    "    n = len(p_values)\n",
    "    decisions =  p_values <= alpha/n# TODO: fill in\n",
    "    \n",
    "    return decisions"
   ]
  },
  {
   "cell_type": "code",
   "execution_count": 22,
   "metadata": {},
   "outputs": [
    {
     "name": "stdout",
     "output_type": "stream",
     "text": [
      "           Decision = 0  Decision = 1\n",
      "Truth = 0          8028             0\n",
      "Truth = 1          1957            15\n",
      "\n",
      "total discoveries: 15\n",
      "fraction of discoveries which were actually false: 0.000\n",
      "\n"
     ]
    }
   ],
   "source": [
    "# Once you've filled in `bonferroni`, run this cell to print the results. \n",
    "bonferroni_decisions = bonferroni(p_values, alpha)\n",
    "\n",
    "results = report_results(bonferroni_decisions,true_values)\n",
    "print()\n",
    "print_false_discovery_fraction(results)\n",
    "print()"
   ]
  },
  {
   "cell_type": "markdown",
   "metadata": {},
   "source": [
    "## Part 2.d: Benjamini-Hochberg\n",
    "Now we will investigate the result of implementing Benjamini-Hochberg procedure for multiple hypothesis testing.\n",
    "First, implement the Benjamini-Hochberg procedure in the function below. \n",
    "\n",
    "Recall that for testing $n$ hypotheses with false discovery rate (FDR) $\\leq \\alpha$, the resulting procedure is to find the largest $k$ such that the $k^{th}$-largest of the $n$ p-values is less than or equal to $k \\frac{\\alpha}{n}$:\n",
    "$$ P_{(k)} \\leq k \\frac{\\alpha}{n}$$\n",
    "We then declare a discovery for all p-values with value less than or equal to this $k^{th}$ p-value. "
   ]
  },
  {
   "cell_type": "code",
   "execution_count": 23,
   "metadata": {},
   "outputs": [],
   "source": [
    "# TODO: calculate decisions based on Benjamini-Hochberg procedure\n",
    "def benjamini_hochberg(p_values, alpha):\n",
    "    \"\"\"\n",
    "    Returns decisions on p-values using Benjamini-Hochberg.\n",
    "    \n",
    "    Inputs:\n",
    "        p_values: array of p-values\n",
    "        alpha: desired FDR (FDR = E[# false positives / # positives])\n",
    "    \n",
    "    Returns:\n",
    "        decisions: binary array of same length as p-values, where `decisions[i]` is 1\n",
    "        if `p_values[i]` is deemed significant, and 0 otherwise\n",
    "    \"\"\"\n",
    "\n",
    "    n = len(p_values)\n",
    "    k = 0\n",
    "    sorted_p = np.sort(p_values)\n",
    "    \n",
    "    for i in reversed(range(n)):\n",
    "        if sorted_p[i] <= (i + 1) * (alpha / n):\n",
    "            break;\n",
    "\n",
    "    decisions = p_values <= sorted_p[i]\n",
    "    return decisions\n",
    "    \n",
    "    return decisions"
   ]
  },
  {
   "cell_type": "markdown",
   "metadata": {},
   "source": [
    "Now, asses the result of applying the Benjamini Hochberg procedure to the simulated data."
   ]
  },
  {
   "cell_type": "code",
   "execution_count": 24,
   "metadata": {},
   "outputs": [
    {
     "name": "stdout",
     "output_type": "stream",
     "text": [
      "           Decision = 0  Decision = 1\n",
      "Truth = 0          8011            17\n",
      "Truth = 1          1581           391\n",
      "\n",
      "total discoveries: 408\n",
      "fraction of discoveries which were actually false: 0.042\n"
     ]
    },
    {
     "data": {
      "text/plain": [
       "(408, 0.041666666666666664)"
      ]
     },
     "execution_count": 24,
     "metadata": {},
     "output_type": "execute_result"
    }
   ],
   "source": [
    "# Once you've filled in `benjamini_hochberg`, run this cell to print the results.\n",
    "bh_decisions = benjamini_hochberg(p_values, alpha)\n",
    "\n",
    "bh_results = report_results(bh_decisions,true_values)\n",
    "print()\n",
    "\n",
    "print_false_discovery_fraction(bh_results)\n"
   ]
  },
  {
   "cell_type": "markdown",
   "metadata": {},
   "source": [
    "## Part 2.e: Conclusions\n",
    "Finally, write a short (<= 4 sentences) summary comparing the three different methods from this problem."
   ]
  },
  {
   "cell_type": "markdown",
   "metadata": {},
   "source": [
    "In this problem we are tasked with controlling the FDR. We see that applying the Naive procedure does not control the FDR. This is not surprising as the Naive test is designed to control the FPR. The Bonferroni correction is aimed at controlling FWER. FWER control implied FDR control since it can be shown that FWER >= FDR. However this approach is too strict leading to far too few discoveries. The BH procedure provides a less conservative approach, as it specifically designed for FDR control We can see from this example that the empirical performance of the procedure is equal to 0.042 which is close to the goal of 0.05."
   ]
  },
  {
   "cell_type": "markdown",
   "metadata": {},
   "source": [
    "## Final tests\n",
    "If all the tests below pass you can assume you have successfuly completed the testable parts of the lab. Don't worry about understanding the code below; just make sure no asserts fail."
   ]
  },
  {
   "cell_type": "code",
   "execution_count": 25,
   "metadata": {},
   "outputs": [
    {
     "name": "stdout",
     "output_type": "stream",
     "text": [
      "           Decision = 0  Decision = 1\n",
      "Truth = 0          7628           400\n",
      "Truth = 1           679          1293\n",
      "total discoveries: 1693\n",
      "fraction of discoveries which were actually false: 0.236\n",
      "87600af3ad8560db2ef1ec43fc0e9877\n",
      "\n",
      "           Decision = 0  Decision = 1\n",
      "Truth = 0          8028             0\n",
      "Truth = 1          1957            15\n",
      "total discoveries: 15\n",
      "fraction of discoveries which were actually false: 0.000\n",
      "30565a8911a6bb487e3745c0ea3c8224\n",
      "\n",
      "           Decision = 0  Decision = 1\n",
      "Truth = 0          8011            17\n",
      "Truth = 1          1581           391\n",
      "total discoveries: 408\n",
      "fraction of discoveries which were actually false: 0.042\n",
      "eac9ed4c22d75c17b5211c4c2468bd52\n",
      "\n",
      "All tests passed! You are awesome!!!\n"
     ]
    }
   ],
   "source": [
    "\n",
    "def assert_discoveries(results,\n",
    "                       true_vales,\n",
    "                       true_positives_hash,\n",
    "                       false_positives_hash,\n",
    "                       true_negatives_hash,\n",
    "                       false_negatives_hash,\n",
    "                       false_discovery_frac_hash):\n",
    "    def get_hash(num):\n",
    "        return hashlib.md5(str(num).encode()).hexdigest()\n",
    "    res_dict = report_results(results, true_values)\n",
    "\n",
    "    assert(get_hash(res_dict['TP_count']) == true_positives_hash)\n",
    "    assert(get_hash(res_dict['FP_count']) == false_positives_hash)\n",
    "    assert(get_hash(res_dict['TN_count']) == true_negatives_hash)\n",
    "    assert(get_hash(res_dict['FN_count']) == false_negatives_hash)\n",
    "    _, false_discovery_frac = print_false_discovery_fraction(res_dict)\n",
    "    print(get_hash(false_discovery_frac))\n",
    "    assert(get_hash(false_discovery_frac) == false_discovery_frac_hash)\n",
    "    print()\n",
    "    \n",
    "\n",
    "assert_discoveries(naive_decisions,\n",
    "                   true_values,\n",
    "                   true_positives_hash=\"7c82fab8c8f89124e2ce92984e04fb40\",\n",
    "                   false_positives_hash=\"18d8042386b79e2c279fd162df0205c8\",\n",
    "                   true_negatives_hash=\"7bb16972da003e87724f048d76b7e0e1\",\n",
    "                    false_negatives_hash=\"ca9c267dad0305d1a6308d2a0cf1c39c\",\n",
    "                   false_discovery_frac_hash=\"87600af3ad8560db2ef1ec43fc0e9877\")\n",
    "\n",
    "assert_discoveries(bonferroni_decisions,\n",
    "                   true_values,\n",
    "                   true_positives_hash=\"9bf31c7ff062936a96d3c8bd1f8f2ff3\",\n",
    "                   false_positives_hash=\"cfcd208495d565ef66e7dff9f98764da\",\n",
    "                   true_negatives_hash=\"f8e918489f1e0a81ff11312f4d0630c1\",\n",
    "                   false_negatives_hash=\"277a78fc05c8864a170e9a56ceeabc4c\",\n",
    "                   false_discovery_frac_hash=\"30565a8911a6bb487e3745c0ea3c8224\")\n",
    "\n",
    "assert_discoveries(bh_decisions,\n",
    "                   true_values,\n",
    "                   true_positives_hash=\"5a4b25aaed25c2ee1b74de72dc03c14e\",\n",
    "                   false_positives_hash=\"70efdf2ec9b086079795c442636b55fb\",\n",
    "                   true_negatives_hash=\"e1226495c14f1a62ae17aa76c1f0d457\",\n",
    "                   false_negatives_hash=\"88a199611ac2b85bd3f76e8ee7e55650\",\n",
    "                   false_discovery_frac_hash=\"eac9ed4c22d75c17b5211c4c2468bd52\")\n",
    "    \n",
    "print(\"All tests passed! You are awesome!!!\")"
   ]
  },
  {
   "cell_type": "code",
   "execution_count": null,
   "metadata": {},
   "outputs": [],
   "source": []
  }
 ],
 "metadata": {
  "kernelspec": {
   "display_name": "Python 3",
   "language": "python",
   "name": "python3"
  },
  "language_info": {
   "codemirror_mode": {
    "name": "ipython",
    "version": 3
   },
   "file_extension": ".py",
   "mimetype": "text/x-python",
   "name": "python",
   "nbconvert_exporter": "python",
   "pygments_lexer": "ipython3",
   "version": "3.7.3"
  }
 },
 "nbformat": 4,
 "nbformat_minor": 2
}
